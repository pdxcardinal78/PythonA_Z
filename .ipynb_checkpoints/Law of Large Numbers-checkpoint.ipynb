{
 "cells": [
  {
   "cell_type": "code",
   "execution_count": 1,
   "metadata": {
    "collapsed": true
   },
   "outputs": [],
   "source": [
    "#This is the home work assignment LLN for Python Programming A-Z"
   ]
  },
  {
   "cell_type": "code",
   "execution_count": 145,
   "metadata": {},
   "outputs": [
    {
     "name": "stdout",
     "output_type": "stream",
     "text": [
      "68.2% Of a total of  1351 trials, were between -1 and 1\n"
     ]
    }
   ],
   "source": [
    "import numpy as np\n",
    "from numpy.random import randn\n",
    "Y = 0 #Number of Trials\n",
    "X = 0 #Number of Positive Passes\n",
    "N = 0 #Check\n",
    "\n",
    "while (N != .682 and Y < 100000):\n",
    "    x = randn()\n",
    "    if -1 < x < 1:\n",
    "        X = X + 1\n",
    "        Y = Y + 1\n",
    "    else:\n",
    "        Y = Y + 1\n",
    "    N = round(X / Y, 3)\n",
    "print (str(N * 100)+ '%', \"Of a total of \", Y, \"trials, were between -1 and 1\")\n",
    "      \n",
    "    "
   ]
  },
  {
   "cell_type": "code",
   "execution_count": null,
   "metadata": {
    "collapsed": true
   },
   "outputs": [],
   "source": [
    "p = randn()"
   ]
  },
  {
   "cell_type": "code",
   "execution_count": null,
   "metadata": {
    "collapsed": true
   },
   "outputs": [],
   "source": []
  }
 ],
 "metadata": {
  "kernelspec": {
   "display_name": "Python 3",
   "language": "python",
   "name": "python3"
  },
  "language_info": {
   "codemirror_mode": {
    "name": "ipython",
    "version": 3
   },
   "file_extension": ".py",
   "mimetype": "text/x-python",
   "name": "python",
   "nbconvert_exporter": "python",
   "pygments_lexer": "ipython3",
   "version": "3.6.3"
  }
 },
 "nbformat": 4,
 "nbformat_minor": 2
}
