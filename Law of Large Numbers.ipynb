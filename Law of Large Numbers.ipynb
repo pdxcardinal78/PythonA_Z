{
 "cells": [
  {
   "cell_type": "code",
   "execution_count": 8,
   "metadata": {
    "collapsed": true
   },
   "outputs": [],
   "source": [
    "import numpy as np\n",
    "from numpy.random import randn"
   ]
  },
  {
   "cell_type": "code",
   "execution_count": 196,
   "metadata": {},
   "outputs": [
    {
     "name": "stdout",
     "output_type": "stream",
     "text": [
      "Count - 68250\n",
      "Reps - 100000\n",
      "0.6825\n"
     ]
    }
   ],
   "source": [
    "# My Solution\n",
    "count = 0\n",
    "i = 0\n",
    "N = 0\n",
    "while (N != .6820 and i < 100000):\n",
    "    x = randn()\n",
    "    if (-1) < x < 1:\n",
    "        count = count + 1\n",
    "        i = i + 1\n",
    "    else:\n",
    "        i = i + 1\n",
    "    N = round((count / i),4)\n",
    "print(\"Count -\", count)\n",
    "print(\"Reps -\", i)\n",
    "print(N)\n",
    " \n",
    "    "
   ]
  },
  {
   "cell_type": "markdown",
   "metadata": {},
   "source": [
    "---"
   ]
  },
  {
   "cell_type": "code",
   "execution_count": 213,
   "metadata": {},
   "outputs": [
    {
     "name": "stdout",
     "output_type": "stream",
     "text": [
      "0.697\n"
     ]
    }
   ],
   "source": [
    "#There solution\n",
    "\n",
    "import numpy as np\n",
    "from numpy.random import randn\n",
    "N = 1000\n",
    "count = 0\n",
    "for i in randn(N):\n",
    "    if (-1 < i < 1):\n",
    "        count = count + 1\n",
    "answer = count / N\n",
    "print (answer)\n",
    "        "
   ]
  },
  {
   "cell_type": "code",
   "execution_count": null,
   "metadata": {
    "collapsed": true
   },
   "outputs": [],
   "source": []
  }
 ],
 "metadata": {
  "kernelspec": {
   "display_name": "Python 3",
   "language": "python",
   "name": "python3"
  },
  "language_info": {
   "codemirror_mode": {
    "name": "ipython",
    "version": 3
   },
   "file_extension": ".py",
   "mimetype": "text/x-python",
   "name": "python",
   "nbconvert_exporter": "python",
   "pygments_lexer": "ipython3",
   "version": "3.6.1"
  }
 },
 "nbformat": 4,
 "nbformat_minor": 2
}
